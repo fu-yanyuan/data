{
  "cells": [
    {
      "cell_type": "markdown",
      "metadata": {
        "colab_type": "text",
        "id": "view-in-github"
      },
      "source": [
        "<a href=\"https://colab.research.google.com/gist/kwea123/f0e8f38ff2aa94495dbfe7ae9219f75c/colmap_colab.ipynb\" target=\"_parent\"><img src=\"https://colab.research.google.com/assets/colab-badge.svg\" alt=\"Open In Colab\"/></a>"
      ]
    },
    {
      "cell_type": "markdown",
      "metadata": {
        "colab_type": "text",
        "id": "SpaQWAQg1VtD"
      },
      "source": [
        "# Installation"
      ]
    },
    {
      "cell_type": "code",
      "execution_count": null,
      "metadata": {
        "colab": {},
        "colab_type": "code",
        "id": "eGdRYPFIzvFs",
        "vscode": {
          "languageId": "python"
        }
      },
      "outputs": [],
      "source": [
        "!sudo apt-get install \\\n",
        "    git \\\n",
        "    cmake \\\n",
        "    build-essential \\\n",
        "    libboost-program-options-dev \\\n",
        "    libboost-filesystem-dev \\\n",
        "    libboost-graph-dev \\\n",
        "    libboost-regex-dev \\\n",
        "    libboost-system-dev \\\n",
        "    libboost-test-dev \\\n",
        "    libeigen3-dev \\\n",
        "    libsuitesparse-dev \\\n",
        "    libfreeimage-dev \\\n",
        "    libgoogle-glog-dev \\\n",
        "    libgflags-dev \\\n",
        "    libglew-dev \\\n",
        "    qtbase5-dev \\\n",
        "    libqt5opengl5-dev \\\n",
        "    libcgal-dev \\\n",
        "    libcgal-qt5-dev"
      ]
    },
    {
      "cell_type": "markdown",
      "metadata": {},
      "source": [
        "## Add missing dependencies\n",
        "acording to the [colmap installation - linux](https://colmap.github.io/install.html#linux).  \n",
        "its `Dependencies from the default Ubuntu repositories:` has one more as below."
      ]
    },
    {
      "cell_type": "code",
      "execution_count": null,
      "metadata": {
        "vscode": {
          "languageId": "python"
        }
      },
      "outputs": [],
      "source": [
        "!sudo apt-get install libmetis-dev"
      ]
    },
    {
      "cell_type": "markdown",
      "metadata": {
        "colab_type": "text",
        "id": "yptHICvs1evY"
      },
      "source": [
        "## Install Ceres-solver (takes 10~20 minutes...)\n",
        "### This has been changed to the new commands\n",
        "command about how to download and build the Ceres Solver 2.0"
      ]
    },
    {
      "cell_type": "code",
      "execution_count": null,
      "metadata": {
        "colab": {},
        "colab_type": "code",
        "id": "gAwEYpOk0Irw",
        "vscode": {
          "languageId": "python"
        }
      },
      "outputs": [],
      "source": [
        "# !sudo apt-get install libatlas-base-dev libsuitesparse-dev\n",
        "# !git clone https://ceres-solver.googlesource.com/ceres-solver\n",
        "# %cd ceres-solver\n",
        "# !git checkout $(git describe --tags) # Checkout the latest release\n",
        "# %mkdir build\n",
        "# %cd build\n",
        "# !cmake .. -DBUILD_TESTING=OFF -DBUILD_EXAMPLES=OFF\n",
        "# !make\n",
        "# !sudo make install\n",
        "\n",
        "# new \n",
        "!wget http://ceres-solver.org/ceres-solver-2.0.0.tar.gz\n",
        "!tar -xvzf ceres-solver-2.0.0.tar.gz\n",
        "%cd ceres-solver-2.0.0\n",
        "%mkdir build\n",
        "%cd build\n",
        "!cmake .. -DBUILD_TESTING=OFF -DBUILD_EXAMPLES=OFF\n",
        "!make\n",
        "!sudo make install"
      ]
    },
    {
      "cell_type": "markdown",
      "metadata": {
        "colab_type": "text",
        "id": "lmePvOPY3dof"
      },
      "source": [
        "## Install colmap (takes another 10~20 minutes...)"
      ]
    },
    {
      "cell_type": "code",
      "execution_count": null,
      "metadata": {
        "colab": {},
        "colab_type": "code",
        "id": "gKTtduYW3LpH",
        "vscode": {
          "languageId": "python"
        }
      },
      "outputs": [],
      "source": [
        "!git clone https://github.com/colmap/colmap\n",
        "%cd colmap\n",
        "!git checkout dev\n",
        "%mkdir build\n",
        "%cd build\n",
        "!cmake ..\n",
        "!make\n",
        "!sudo make install\n",
        "!CC=/usr/bin/gcc-6 CXX=/usr/bin/g++-6 cmake .."
      ]
    },
    {
      "cell_type": "markdown",
      "metadata": {
        "colab_type": "text",
        "id": "AH2TnXfE8rCV"
      },
      "source": [
        "Next, we need to prepare the images to run colmap.\n",
        "First, create a folder in your google drive and a subfolder named `images`, and put your images inside."
      ]
    },
    {
      "cell_type": "markdown",
      "metadata": {
        "colab_type": "text",
        "id": "GqVrYev0313H"
      },
      "source": [
        "## Mount your drive (to access data)"
      ]
    },
    {
      "cell_type": "code",
      "execution_count": 6,
      "metadata": {
        "colab": {
          "base_uri": "https://localhost:8080/",
          "height": 124
        },
        "colab_type": "code",
        "id": "4rH78spM2Rn-",
        "outputId": "0b4a48e5-6e6d-4001-fd25-d184acff6c91",
        "vscode": {
          "languageId": "python"
        }
      },
      "outputs": [
        {
          "name": "stdout",
          "output_type": "stream",
          "text": [
            "Go to this URL in a browser: https://accounts.google.com/o/oauth2/auth?client_id=947318989803-6bn6qk8qdgf4n4g3pfee6491hc0brc4i.apps.googleusercontent.com&redirect_uri=urn%3aietf%3awg%3aoauth%3a2.0%3aoob&response_type=code&scope=email%20https%3a%2f%2fwww.googleapis.com%2fauth%2fdocs.test%20https%3a%2f%2fwww.googleapis.com%2fauth%2fdrive%20https%3a%2f%2fwww.googleapis.com%2fauth%2fdrive.photos.readonly%20https%3a%2f%2fwww.googleapis.com%2fauth%2fpeopleapi.readonly\n",
            "\n",
            "Enter your authorization code:\n",
            "··········\n",
            "Mounted at /content/drive/\n"
          ]
        }
      ],
      "source": [
        "from google.colab import drive\n",
        "drive.mount('/content/drive/', force_remount=True)"
      ]
    },
    {
      "cell_type": "markdown",
      "metadata": {},
      "source": [
        "# Now, I think colmap is installed and ready to go. enjot it. \n",
        "# The rest cells are for NeRF LLFF data. \n",
        "# if you want some other forms, you can refer to the code, and run here with colmap"
      ]
    },
    {
      "cell_type": "markdown",
      "metadata": {
        "colab_type": "text",
        "id": "0QbTfCds1yy_"
      },
      "source": [
        "## Clone LLFF util"
      ]
    },
    {
      "cell_type": "code",
      "execution_count": 18,
      "metadata": {
        "colab": {
          "base_uri": "https://localhost:8080/",
          "height": 173
        },
        "colab_type": "code",
        "id": "QTt2JDhV0QQA",
        "outputId": "1026caae-c17b-47ba-d160-e6fda96d6f26",
        "vscode": {
          "languageId": "python"
        }
      },
      "outputs": [
        {
          "name": "stdout",
          "output_type": "stream",
          "text": [
            "/content\n",
            "Cloning into 'LLFF'...\n",
            "remote: Enumerating objects: 11, done.\u001b[K\n",
            "remote: Counting objects: 100% (11/11), done.\u001b[K\n",
            "remote: Compressing objects: 100% (10/10), done.\u001b[K\n",
            "remote: Total 759 (delta 1), reused 5 (delta 1), pack-reused 748\u001b[K\n",
            "Receiving objects: 100% (759/759), 31.94 MiB | 26.72 MiB/s, done.\n",
            "Resolving deltas: 100% (403/403), done.\n",
            "/content/LLFF\n"
          ]
        }
      ],
      "source": [
        "%cd /content\n",
        "!git clone https://github.com/Fyusion/LLFF"
      ]
    },
    {
      "cell_type": "markdown",
      "metadata": {
        "colab_type": "text",
        "id": "Zvxe5vDL7blW"
      },
      "source": [
        "# Run COLMAP! (depending on number of images, this takes 10~20 minutes)"
      ]
    },
    {
      "cell_type": "code",
      "execution_count": 19,
      "metadata": {
        "colab": {
          "base_uri": "https://localhost:8080/",
          "height": 224
        },
        "colab_type": "code",
        "id": "d9ryuCQt2hEv",
        "outputId": "b5bccfb5-7ba8-44fd-fe93-eeae82be7fa9",
        "vscode": {
          "languageId": "python"
        }
      },
      "outputs": [
        {
          "name": "stdout",
          "output_type": "stream",
          "text": [
            "/content/LLFF\n",
            "Need to run COLMAP\n",
            "Features extracted\n",
            "Features matched\n",
            "Sparse map created\n",
            "Finished running COLMAP, see /content/drive/My Drive/colab/nerf/my/silica/colmap_output.txt for logs\n",
            "Post-colmap\n",
            "Cameras 5\n",
            "Images # 65\n",
            "Points (3181, 3) Visibility (3181, 65)\n",
            "Depth stats 1.9465594577666598 62.523538453729515 4.761593846905955\n",
            "Done with imgs2poses\n"
          ]
        }
      ],
      "source": [
        "%cd /content/LLFF\n",
        "# change the path below to your data folder (the folder containing the `images` folder)\n",
        "!python imgs2poses.py \"/content/drive/My Drive/colab/nerf/my/silica/\""
      ]
    },
    {
      "cell_type": "markdown",
      "metadata": {
        "colab_type": "text",
        "id": "MLP3_P9q8M9d"
      },
      "source": [
        "After running colmap, you will get a `poses_bounds.npy` file under your data folder, once you got that, you're ready to train!"
      ]
    }
  ],
  "metadata": {
    "accelerator": "GPU",
    "colab": {
      "authorship_tag": "ABX9TyPm82PiwqyzEJ6i0yaFnrIX",
      "collapsed_sections": [],
      "include_colab_link": true,
      "name": "colmap_colab.ipynb",
      "provenance": []
    },
    "kernelspec": {
      "display_name": "Python 3",
      "name": "python3"
    }
  },
  "nbformat": 4,
  "nbformat_minor": 0
}
