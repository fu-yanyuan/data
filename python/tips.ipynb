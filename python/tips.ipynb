{
 "cells": [
  {
   "cell_type": "markdown",
   "metadata": {},
   "source": [
    "# some tips to write better python code"
   ]
  },
  {
   "cell_type": "markdown",
   "metadata": {},
   "source": [
    "#### 1. iterate over a list  \n",
    "enumerate()"
   ]
  },
  {
   "cell_type": "code",
   "execution_count": 3,
   "metadata": {},
   "outputs": [
    {
     "name": "stdout",
     "output_type": "stream",
     "text": [
      "1\n",
      "4\n",
      "9\n",
      "16\n",
      "[1, 4, 9, -1]\n"
     ]
    }
   ],
   "source": [
    "data = [1, 4, 9, 16]\n",
    "for idx, num in enumerate(data):\n",
    "    print(num)\n",
    "    if num > 10:\n",
    "        data[idx] = -1\n",
    "\n",
    "print(data)"
   ]
  },
  {
   "cell_type": "markdown",
   "metadata": {},
   "source": [
    "#### 2. use list comprehension instead of raw for loops"
   ]
  },
  {
   "cell_type": "code",
   "execution_count": 5,
   "metadata": {},
   "outputs": [
    {
     "name": "stdout",
     "output_type": "stream",
     "text": [
      "[0, 1, 4, 9]\n",
      "[0, 1, 4, 9]\n"
     ]
    }
   ],
   "source": [
    "data = []\n",
    "for i in range(4):\n",
    "    data.append(i*i)\n",
    "print(data)\n",
    "\n",
    "# better one\n",
    "data = [i*i for i in range(4)]\n",
    "print(data)"
   ]
  },
  {
   "cell_type": "markdown",
   "metadata": {},
   "source": [
    "#### 3. sort complex iterables with sorted()"
   ]
  },
  {
   "cell_type": "code",
   "execution_count": 2,
   "metadata": {},
   "outputs": [
    {
     "name": "stdout",
     "output_type": "stream",
     "text": [
      "[1, 4, 9, 16]\n",
      "[16, 9, 4, 1]\n",
      "['1', '3', 'A', 'Aa', 'B', 'a', 'b']\n",
      "[{'name': 'fu', 'age': 22}, {'name': 'li', 'age': 21}, {'name': 'ono', 'age': 20}]\n"
     ]
    }
   ],
   "source": [
    "data = [16, 4, 1, 9]\n",
    "data_sorted = sorted(data)\n",
    "print(data_sorted)\n",
    "\n",
    "data_reverse = sorted(data, reverse=True)\n",
    "print(data_reverse)\n",
    "\n",
    "c = ['3', 'b', 'a', 'A', 'B', 'Aa', '1']\n",
    "c_sorted = sorted(c)\n",
    "print(c_sorted)\n",
    "\n",
    "# dictionary\n",
    "d = [{'name': 'ono', 'age': 20},\n",
    "     {'name': 'li', 'age': 21},\n",
    "     {'name': 'fu', 'age': 22}]\n",
    "\n",
    "print(sorted(d, key=lambda x: x['name']))"
   ]
  },
  {
   "cell_type": "markdown",
   "metadata": {},
   "source": [
    "#### 4. use set() for unique elements"
   ]
  },
  {
   "cell_type": "code",
   "execution_count": 3,
   "metadata": {},
   "outputs": [
    {
     "name": "stdout",
     "output_type": "stream",
     "text": [
      "{1, 3, 4, 6, 7, 8}\n"
     ]
    }
   ],
   "source": [
    "my_list = [1, 3, 4, 6, 6, 7, 7, 8]\n",
    "my_set = set(my_list)\n",
    "print(my_set)\n"
   ]
  },
  {
   "cell_type": "markdown",
   "metadata": {},
   "source": [
    "#### 5. save memory with generators  \n",
    "produce one item when queried"
   ]
  },
  {
   "cell_type": "code",
   "execution_count": 5,
   "metadata": {},
   "outputs": [
    {
     "name": "stdout",
     "output_type": "stream",
     "text": [
      "499500\n",
      "8856 bytes\n",
      "499500\n",
      "112 bytes\n"
     ]
    }
   ],
   "source": [
    "import sys\n",
    "\n",
    "my_list = [i for i in range(1000)]\n",
    "print(sum(my_list))\n",
    "print(sys.getsizeof(my_list), 'bytes')\n",
    "\n",
    "my_gen = (i for i in range(1000))\n",
    "print(sum(my_gen))\n",
    "print(sys.getsizeof(my_gen), 'bytes')"
   ]
  },
  {
   "cell_type": "markdown",
   "metadata": {},
   "source": [
    "#### 6. define default value in dictionary with get() and setdefault()"
   ]
  },
  {
   "cell_type": "code",
   "execution_count": 7,
   "metadata": {},
   "outputs": [
    {
     "name": "stdout",
     "output_type": "stream",
     "text": [
      "8\n"
     ]
    },
    {
     "ename": "KeyError",
     "evalue": "'count'",
     "output_type": "error",
     "traceback": [
      "\u001b[0;31m---------------------------------------------------------------------------\u001b[0m",
      "\u001b[0;31mKeyError\u001b[0m                                  Traceback (most recent call last)",
      "\u001b[0;32m/tmp/ipykernel_2327041/917954247.py\u001b[0m in \u001b[0;36m<module>\u001b[0;34m\u001b[0m\n\u001b[1;32m      2\u001b[0m \u001b[0mprice\u001b[0m \u001b[0;34m=\u001b[0m \u001b[0md\u001b[0m\u001b[0;34m[\u001b[0m\u001b[0;34m'price'\u001b[0m\u001b[0;34m]\u001b[0m\u001b[0;34m\u001b[0m\u001b[0;34m\u001b[0m\u001b[0m\n\u001b[1;32m      3\u001b[0m \u001b[0mprint\u001b[0m\u001b[0;34m(\u001b[0m\u001b[0mprice\u001b[0m\u001b[0;34m)\u001b[0m\u001b[0;34m\u001b[0m\u001b[0;34m\u001b[0m\u001b[0m\n\u001b[0;32m----> 4\u001b[0;31m \u001b[0mcount\u001b[0m \u001b[0;34m=\u001b[0m \u001b[0md\u001b[0m\u001b[0;34m[\u001b[0m\u001b[0;34m'count'\u001b[0m\u001b[0;34m]\u001b[0m\u001b[0;34m\u001b[0m\u001b[0;34m\u001b[0m\u001b[0m\n\u001b[0m\u001b[1;32m      5\u001b[0m \u001b[0mprint\u001b[0m\u001b[0;34m(\u001b[0m\u001b[0mcount\u001b[0m\u001b[0;34m)\u001b[0m\u001b[0;34m\u001b[0m\u001b[0;34m\u001b[0m\u001b[0m\n",
      "\u001b[0;31mKeyError\u001b[0m: 'count'"
     ]
    }
   ],
   "source": [
    "d = {'item': 'apple', 'price': 8}\n",
    "price = d['price']\n",
    "print(price)\n",
    "count = d['count']\n",
    "print(count)\n"
   ]
  },
  {
   "cell_type": "code",
   "execution_count": 12,
   "metadata": {},
   "outputs": [
    {
     "name": "stdout",
     "output_type": "stream",
     "text": [
      "None\n",
      "0\n",
      "{'item': 'apple', 'price': 8}\n",
      "0\n",
      "{'item': 'apple', 'price': 8, 'count': 999}\n"
     ]
    }
   ],
   "source": [
    "d = {'item': 'apple', 'price': 8}\n",
    "count = d.get('count')\n",
    "print(count)\n",
    "\n",
    "count = d.get('count', 0)\n",
    "print(count)\n",
    "print(d)\n",
    "\n",
    "connt = d.setdefault('count', 999)\n",
    "print(count)\n",
    "print(d)"
   ]
  },
  {
   "cell_type": "markdown",
   "metadata": {},
   "source": [
    "#### 7. count hashable objects with collections.Counter  \n",
    "instead of calculating by our own  \n",
    "\n",
    "(__iterable: None = ..., **kwargs: int) -> None  \n",
    "Create a new, empty Counter object. And if given, count elements from an input iterable.  \n",
    "Or, initialize the count from another mapping of elements to their counts.\n",
    "\n",
    "> c = Counter() # a new, empty counter\n",
    " \n",
    "> c = Counter('gallahad') # a new counter from an iterable  \n",
    "\n",
    "> c = Counter({'a': 4, 'b': 2}) # a new counter from a mapping\n",
    "\n",
    "> c = Counter(a=4, b=2) # a new counter from keyword args"
   ]
  },
  {
   "cell_type": "code",
   "execution_count": 16,
   "metadata": {},
   "outputs": [
    {
     "name": "stdout",
     "output_type": "stream",
     "text": [
      "Counter({3: 2, 6: 2, 1: 1, 5: 1})\n",
      "2\n",
      "0\n",
      "[(3, 2), (6, 2)]\n",
      "[(3, 2)]\n"
     ]
    }
   ],
   "source": [
    "from collections import Counter\n",
    "\n",
    "l = [1, 3, 3, 5, 6, 6]\n",
    "counter = Counter(l)\n",
    "print(counter)\n",
    "\n",
    "# for a specific item\n",
    "print(counter[3])\n",
    "# if an item does not exits\n",
    "print(counter[9])\n",
    "\n",
    "# most common 2\n",
    "print(counter.most_common(2))\n",
    "print(counter.most_common(1))"
   ]
  },
  {
   "cell_type": "markdown",
   "metadata": {},
   "source": [
    "#### 8. format strings with f-strings"
   ]
  },
  {
   "cell_type": "code",
   "execution_count": 18,
   "metadata": {},
   "outputs": [
    {
     "name": "stdout",
     "output_type": "stream",
     "text": [
      "my age is 9\n",
      "I will be 10 years old soon\n"
     ]
    }
   ],
   "source": [
    "age = 9\n",
    "my_string = f'my age is {age}'\n",
    "print(my_string)\n",
    "\n",
    "my_string = f'I will be {age+1} years old soon'\n",
    "print(my_string)"
   ]
  },
  {
   "cell_type": "markdown",
   "metadata": {},
   "source": [
    "#### 9. concatenate strings with .join()"
   ]
  },
  {
   "cell_type": "code",
   "execution_count": 20,
   "metadata": {},
   "outputs": [
    {
     "name": "stdout",
     "output_type": "stream",
     "text": [
      "hello this is fu\n",
      "hello-this-is-fu\n"
     ]
    }
   ],
   "source": [
    "list_of_words = ['hello', 'this', 'is', 'fu']\n",
    "\n",
    "# forget about for loops\n",
    "# use .join\n",
    "sentence = ' '.join(list_of_words)\n",
    "print(sentence)\n",
    "\n",
    "s2 = '-'.join(list_of_words)\n",
    "print(s2)"
   ]
  },
  {
   "cell_type": "markdown",
   "metadata": {},
   "source": [
    "#### 10. merge 2 dictionaries (3.5+)"
   ]
  },
  {
   "cell_type": "code",
   "execution_count": 22,
   "metadata": {},
   "outputs": [
    {
     "name": "stdout",
     "output_type": "stream",
     "text": [
      "{'name': 'fu', 'age': 24, 'status': 'M1'}\n"
     ]
    }
   ],
   "source": [
    "d1 = {'name': 'fu', 'age': 24}\n",
    "d2 = {'name': 'fu', 'status': 'M1'}\n",
    "merged_d = {**d1, **d2}\n",
    "print(merged_d)"
   ]
  },
  {
   "cell_type": "markdown",
   "metadata": {},
   "source": [
    "#### 11. simplify if statement for multiple checks"
   ]
  },
  {
   "cell_type": "code",
   "execution_count": 23,
   "metadata": {},
   "outputs": [
    {
     "name": "stdout",
     "output_type": "stream",
     "text": [
      "is matsui lab\n"
     ]
    }
   ],
   "source": [
    "members = ['matsui', 'ono', 'li', 'yamashita', 'fu']\n",
    "name = 'fu'\n",
    "if name in members:\n",
    "    print('is matsui lab')"
   ]
  }
 ],
 "metadata": {
  "interpreter": {
   "hash": "12fd4427c6a57ea805a875a6a78a83406a1d04109da0dc4532e7d36dc48aac86"
  },
  "kernelspec": {
   "display_name": "Python 3.9.7 64-bit ('gans2': conda)",
   "language": "python",
   "name": "python3"
  },
  "language_info": {
   "codemirror_mode": {
    "name": "ipython",
    "version": 3
   },
   "file_extension": ".py",
   "mimetype": "text/x-python",
   "name": "python",
   "nbconvert_exporter": "python",
   "pygments_lexer": "ipython3",
   "version": "3.9.7"
  },
  "orig_nbformat": 4
 },
 "nbformat": 4,
 "nbformat_minor": 2
}
