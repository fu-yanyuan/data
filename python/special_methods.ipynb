{
 "cells": [
  {
   "cell_type": "markdown",
   "metadata": {},
   "source": [
    "__str__ and __repr__"
   ]
  },
  {
   "cell_type": "code",
   "execution_count": 1,
   "metadata": {},
   "outputs": [],
   "source": [
    "class Person:\n",
    "    def __init__(self, name, age):\n",
    "        self.name = name\n",
    "        self.age = age\n",
    "\n",
    "p = Person('Jeff', 23)"
   ]
  },
  {
   "cell_type": "code",
   "execution_count": 2,
   "metadata": {},
   "outputs": [
    {
     "name": "stdout",
     "output_type": "stream",
     "text": [
      "<__main__.Person object at 0x10fe9fe80>\n",
      "<__main__.Person object at 0x10fe9fe80>\n",
      "<__main__.Person object at 0x10fe9fe80>\n"
     ]
    }
   ],
   "source": [
    "print(p)\n",
    "\n",
    "print(str(p))\n",
    "\n",
    "print(repr(p))\n"
   ]
  },
  {
   "cell_type": "code",
   "execution_count": 9,
   "metadata": {},
   "outputs": [
    {
     "name": "stdout",
     "output_type": "stream",
     "text": [
      "repr Person(Jeff, 23)\n",
      "repr Person(Jeff, 23)\n",
      "repr Person(Jeff, 23)\n"
     ]
    }
   ],
   "source": [
    "class Person:\n",
    "    def __init__(self, name, age):\n",
    "        self.name = name\n",
    "        self.age = age\n",
    "    \n",
    "    def __repr__(self):\n",
    "        return f'repr Person({self.name}, {self.age})'\n",
    "\n",
    "p = Person('Jeff', 23)\n",
    "print(p)\n",
    "print(str(p))\n",
    "print(repr(p))"
   ]
  },
  {
   "cell_type": "code",
   "execution_count": 10,
   "metadata": {},
   "outputs": [
    {
     "name": "stdout",
     "output_type": "stream",
     "text": [
      "str Person(Jeff, 23)\n",
      "str Person(Jeff, 23)\n",
      "<__main__.Person object at 0x118bcb0d0>\n"
     ]
    }
   ],
   "source": [
    "class Person:\n",
    "    def __init__(self, name, age):\n",
    "        self.name = name\n",
    "        self.age = age\n",
    "    \n",
    "    def __str__(self):\n",
    "        return f'str Person({self.name}, {self.age})'\n",
    "\n",
    "p = Person('Jeff', 23)\n",
    "print(p)\n",
    "print(str(p))\n",
    "print(repr(p))"
   ]
  },
  {
   "cell_type": "code",
   "execution_count": 11,
   "metadata": {},
   "outputs": [
    {
     "name": "stdout",
     "output_type": "stream",
     "text": [
      "str Person(Jeff, 23)\n",
      "str Person(Jeff, 23)\n",
      "repr Person(Jeff, 23)\n"
     ]
    }
   ],
   "source": [
    "class Person:\n",
    "    def __init__(self, name, age):\n",
    "        self.name = name\n",
    "        self.age = age\n",
    "    \n",
    "    def __str__(self):\n",
    "        return f'str Person({self.name}, {self.age})'\n",
    "    \n",
    "    def __repr__(self):\n",
    "        return f'repr Person({self.name}, {self.age})'\n",
    "\n",
    "p = Person('Jeff', 23)\n",
    "print(p)\n",
    "print(str(p))\n",
    "print(repr(p))"
   ]
  }
 ],
 "metadata": {
  "interpreter": {
   "hash": "31f2aee4e71d21fbe5cf8b01ff0e069b9275f58929596ceb00d14d90e3e16cd6"
  },
  "kernelspec": {
   "display_name": "Python 3.8.9 64-bit",
   "language": "python",
   "name": "python3"
  },
  "language_info": {
   "codemirror_mode": {
    "name": "ipython",
    "version": 3
   },
   "file_extension": ".py",
   "mimetype": "text/x-python",
   "name": "python",
   "nbconvert_exporter": "python",
   "pygments_lexer": "ipython3",
   "version": "3.8.9"
  },
  "orig_nbformat": 4
 },
 "nbformat": 4,
 "nbformat_minor": 2
}
